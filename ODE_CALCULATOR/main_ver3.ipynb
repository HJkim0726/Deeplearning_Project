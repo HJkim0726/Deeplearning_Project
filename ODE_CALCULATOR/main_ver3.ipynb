{
  "cells": [
    {
      "cell_type": "code",
      "source": [
        "from google.colab import drive\n",
        "drive.mount('/content/drive')\n",
        "%cd '/content/drive/MyDrive/Projects/ODE_Calculator'"
      ],
      "metadata": {
        "colab": {
          "base_uri": "https://localhost:8080/"
        },
        "id": "EVMl4lXiUapB",
        "outputId": "a34bbfc1-af52-4aa1-c79a-ab2ec3f2a581"
      },
      "id": "EVMl4lXiUapB",
      "execution_count": null,
      "outputs": [
        {
          "output_type": "stream",
          "name": "stdout",
          "text": [
            "Drive already mounted at /content/drive; to attempt to forcibly remount, call drive.mount(\"/content/drive\", force_remount=True).\n",
            "/content/drive/MyDrive/Projects/ODE_Calculator\n"
          ]
        }
      ]
    },
    {
      "cell_type": "code",
      "execution_count": null,
      "id": "7f94fa20",
      "metadata": {
        "colab": {
          "base_uri": "https://localhost:8080/"
        },
        "id": "7f94fa20",
        "outputId": "a2502306-feb3-4681-aa3c-c3a1a2a4a2aa"
      },
      "outputs": [
        {
          "output_type": "stream",
          "name": "stdout",
          "text": [
            "cuda:0\n"
          ]
        }
      ],
      "source": [
        "import torch\n",
        "import torch.nn as nn\n",
        "import torch.optim as optim\n",
        "from torch.utils.data import Dataset, DataLoader\n",
        "\n",
        "import matplotlib.pyplot as plt\n",
        "\n",
        "import utils\n",
        "from ODE_Calculator_ver3 import ODE_Calculator\n",
        "\n",
        "device = \"cuda:0\" if torch.cuda.is_available() else \"cpu\"\n",
        "print(device)"
      ]
    },
    {
      "cell_type": "code",
      "source": [
        "%reload_ext autoreload\n",
        "%autoreload 2\n",
        "from ODE_Calculator_ver3 import ODE_Calculator"
      ],
      "metadata": {
        "id": "wXzjhNumVmDl"
      },
      "id": "wXzjhNumVmDl",
      "execution_count": null,
      "outputs": []
    },
    {
      "cell_type": "code",
      "execution_count": null,
      "id": "ce96db40",
      "metadata": {
        "id": "ce96db40"
      },
      "outputs": [],
      "source": [
        "ode_point_sampler = utils.ODE_Point_sampler(0,2,4000)"
      ]
    },
    {
      "cell_type": "code",
      "execution_count": null,
      "id": "ecc99913",
      "metadata": {
        "id": "ecc99913",
        "colab": {
          "base_uri": "https://localhost:8080/"
        },
        "outputId": "fd72af92-4149-4c53-db26-5db887021014"
      },
      "outputs": [
        {
          "output_type": "stream",
          "name": "stdout",
          "text": [
            "Order of your ODE? : 2\n",
            "Format rules\n",
            "1. No space\n",
            "2. t is variable of y\n",
            "3. Convert ^ -> ** except for e^(t)\n",
            "4. Always contain '()' small brackets when using functions. Ex) sint -> sin(t), e^(t)\n",
            "Input example : y''-2*y**2=sin(2*t)+e^(-2*t)\n",
            "Input your ODE : y''-2*t*y'+8*y=0\n",
            "Initial condition 1, y(0) = 3\n",
            "Initial condition 2, y`(0) = 0\n",
            "Pytorch expression of your ODE : ddy-2*batch*dy+8*y=0\n"
          ]
        }
      ],
      "source": [
        "model = ODE_Calculator(ode_point_sampler, device)"
      ]
    },
    {
      "cell_type": "code",
      "execution_count": null,
      "id": "564248c3",
      "metadata": {
        "colab": {
          "base_uri": "https://localhost:8080/"
        },
        "id": "564248c3",
        "outputId": "723e9350-b020-4eb6-f2b9-b72c819e2b3a"
      },
      "outputs": [
        {
          "output_type": "stream",
          "name": "stdout",
          "text": [
            "EPOCH [300/6000]\n",
            "LOSS = 14.96713924407959, lr = 0.001\n",
            "EPOCH [600/6000]\n",
            "LOSS = 7.013906955718994, lr = 0.001\n",
            "EPOCH [900/6000]\n",
            "LOSS = 4.891818642616272, lr = 0.001\n",
            "EPOCH [1200/6000]\n",
            "LOSS = 3.146881878376007, lr = 0.001\n",
            "EPOCH [1500/6000]\n",
            "LOSS = 4.928930044174194, lr = 0.001\n",
            "EPOCH [1800/6000]\n",
            "LOSS = 1.825757622718811, lr = 0.001\n",
            "EPOCH [2100/6000]\n",
            "LOSS = 1.262216717004776, lr = 0.001\n",
            "EPOCH [2400/6000]\n",
            "LOSS = 1.718748390674591, lr = 0.001\n",
            "EPOCH [2700/6000]\n",
            "LOSS = 0.8117114454507828, lr = 0.001\n",
            "EPOCH [3000/6000]\n",
            "LOSS = 6.239254251122475, lr = 0.0001\n",
            "EPOCH [3300/6000]\n",
            "LOSS = 0.3931688964366913, lr = 0.0001\n",
            "EPOCH [3600/6000]\n",
            "LOSS = 0.316758394241333, lr = 0.0001\n",
            "EPOCH [3900/6000]\n",
            "LOSS = 0.24196410924196243, lr = 0.0001\n",
            "EPOCH [4200/6000]\n",
            "LOSS = 0.22947639971971512, lr = 0.0001\n",
            "EPOCH [4500/6000]\n",
            "LOSS = 0.17391994036734104, lr = 0.0001\n",
            "EPOCH [4800/6000]\n",
            "LOSS = 0.09950660541653633, lr = 0.0001\n",
            "EPOCH [5100/6000]\n",
            "LOSS = 0.10538381710648537, lr = 0.0001\n",
            "EPOCH [5400/6000]\n",
            "LOSS = 0.054962290450930595, lr = 0.0001\n",
            "EPOCH [5700/6000]\n",
            "LOSS = 0.10270332172513008, lr = 0.0001\n",
            "EPOCH [6000/6000]\n",
            "LOSS = 0.050330862402915955, lr = 1e-05\n"
          ]
        }
      ],
      "source": [
        "model.train(epoch = 6000, bs = 1024, lr = 1E-3, optimizer_type = \"Adam\", display_step = 20)"
      ]
    },
    {
      "cell_type": "code",
      "execution_count": null,
      "id": "bce1a1a1",
      "metadata": {
        "colab": {
          "base_uri": "https://localhost:8080/",
          "height": 472
        },
        "id": "bce1a1a1",
        "outputId": "c244a43c-268b-4da0-c790-24ac4ce3f2cb"
      },
      "outputs": [
        {
          "output_type": "display_data",
          "data": {
            "text/plain": [
              "<Figure size 640x480 with 1 Axes>"
            ],
            "image/png": "[encoded data removed]"
          },
          "metadata": {}
        }
      ],
      "source": [
        "x = torch.linspace(0,2,4000)\n",
        "y = 3-12*x**2+4*x**4\n",
        "model.gen_graph(exact = y)"
      ]
    },
    {
      "cell_type": "code",
      "execution_count": null,
      "id": "7e0827b3",
      "metadata": {
        "id": "7e0827b3",
        "outputId": "7a7f53e8-381c-410f-a9a7-bc97818cc0ed",
        "colab": {
          "base_uri": "https://localhost:8080/"
        }
      },
      "outputs": [
        {
          "output_type": "execute_result",
          "data": {
            "text/plain": [
              "tensor([2.2185])"
            ]
          },
          "metadata": {},
          "execution_count": 28
        }
      ],
      "source": [
        "x = torch.tensor([0.5891])\n",
        "y = 3-12*x**2+4*x**4\n",
        "print(y)"
      ]
    },
    {
      "cell_type": "code",
      "execution_count": null,
      "id": "d31162ed",
      "metadata": {
        "id": "d31162ed",
        "outputId": "1fdccf19-e2a7-4caa-d6d8-1174a055f06c",
        "colab": {
          "base_uri": "https://localhost:8080/"
        }
      },
      "outputs": [
        {
          "output_type": "stream",
          "name": "stdout",
          "text": [
            "Expected value at t = 0.5891 : 2.2317721843719482\n"
          ]
        }
      ],
      "source": [
        "model.gen_value(observe_t =0.5891)"
      ]
    },
    {
      "cell_type": "code",
      "source": [],
      "metadata": {
        "id": "xgcRZeLtj90Y"
      },
      "id": "xgcRZeLtj90Y",
      "execution_count": null,
      "outputs": []
    }
  ],
  "metadata": {
    "kernelspec": {
      "display_name": "Python 3",
      "name": "python3"
    },
    "language_info": {
      "codemirror_mode": {
        "name": "ipython",
        "version": 3
      },
      "file_extension": ".py",
      "mimetype": "text/x-python",
      "name": "python",
      "nbconvert_exporter": "python",
      "pygments_lexer": "ipython3",
      "version": "3.8.18"
    },
    "colab": {
      "provenance": [],
      "gpuType": "T4"
    },
    "accelerator": "GPU"
  },
  "nbformat": 4,
  "nbformat_minor": 5
}